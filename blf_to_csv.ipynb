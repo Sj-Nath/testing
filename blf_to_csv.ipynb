{
  "cells": [
    {
      "cell_type": "code",
      "source": [
        "!pip install CANdas"
      ],
      "metadata": {
        "colab": {
          "base_uri": "https://localhost:8080/"
        },
        "id": "8Wo9TKHXs6gR",
        "outputId": "d744262b-1887-4b0d-fbdb-72f196ba6ed5"
      },
      "execution_count": null,
      "outputs": [
        {
          "output_type": "stream",
          "name": "stdout",
          "text": [
            "Looking in indexes: https://pypi.org/simple, https://us-python.pkg.dev/colab-wheels/public/simple/\n",
            "Requirement already satisfied: CANdas in /usr/local/lib/python3.8/dist-packages (2.0.2)\n",
            "Requirement already satisfied: scipy in /usr/local/lib/python3.8/dist-packages (from CANdas) (1.7.3)\n",
            "Requirement already satisfied: numpy in /usr/local/lib/python3.8/dist-packages (from CANdas) (1.22.4)\n",
            "Requirement already satisfied: python-can in /usr/local/lib/python3.8/dist-packages (from CANdas) (4.1.0)\n",
            "Requirement already satisfied: pandas in /usr/local/lib/python3.8/dist-packages (from CANdas) (1.3.5)\n",
            "Requirement already satisfied: cantools in /usr/local/lib/python3.8/dist-packages (from CANdas) (38.0.2)\n",
            "Requirement already satisfied: matplotlib in /usr/local/lib/python3.8/dist-packages (from CANdas) (3.5.3)\n",
            "Requirement already satisfied: typing-extensions>=3.10.0.0 in /usr/local/lib/python3.8/dist-packages (from cantools->CANdas) (4.5.0)\n",
            "Requirement already satisfied: diskcache in /usr/local/lib/python3.8/dist-packages (from cantools->CANdas) (5.4.0)\n",
            "Requirement already satisfied: bitstruct>=8.15.1 in /usr/local/lib/python3.8/dist-packages (from cantools->CANdas) (8.17.0)\n",
            "Requirement already satisfied: argparse-addons in /usr/local/lib/python3.8/dist-packages (from cantools->CANdas) (0.12.0)\n",
            "Requirement already satisfied: crccheck in /usr/local/lib/python3.8/dist-packages (from cantools->CANdas) (1.3.0)\n",
            "Requirement already satisfied: textparser>=0.21.1 in /usr/local/lib/python3.8/dist-packages (from cantools->CANdas) (0.24.0)\n",
            "Requirement already satisfied: packaging in /usr/local/lib/python3.8/dist-packages (from python-can->CANdas) (23.0)\n",
            "Requirement already satisfied: wrapt~=1.10 in /usr/local/lib/python3.8/dist-packages (from python-can->CANdas) (1.15.0)\n",
            "Requirement already satisfied: msgpack~=1.0.0 in /usr/local/lib/python3.8/dist-packages (from python-can->CANdas) (1.0.4)\n",
            "Requirement already satisfied: setuptools in /usr/local/lib/python3.8/dist-packages (from python-can->CANdas) (57.4.0)\n",
            "Requirement already satisfied: pillow>=6.2.0 in /usr/local/lib/python3.8/dist-packages (from matplotlib->CANdas) (8.4.0)\n",
            "Requirement already satisfied: cycler>=0.10 in /usr/local/lib/python3.8/dist-packages (from matplotlib->CANdas) (0.11.0)\n",
            "Requirement already satisfied: pyparsing>=2.2.1 in /usr/local/lib/python3.8/dist-packages (from matplotlib->CANdas) (3.0.9)\n",
            "Requirement already satisfied: fonttools>=4.22.0 in /usr/local/lib/python3.8/dist-packages (from matplotlib->CANdas) (4.38.0)\n",
            "Requirement already satisfied: python-dateutil>=2.7 in /usr/local/lib/python3.8/dist-packages (from matplotlib->CANdas) (2.8.2)\n",
            "Requirement already satisfied: kiwisolver>=1.0.1 in /usr/local/lib/python3.8/dist-packages (from matplotlib->CANdas) (1.4.4)\n",
            "Requirement already satisfied: pytz>=2017.3 in /usr/local/lib/python3.8/dist-packages (from pandas->CANdas) (2022.7.1)\n",
            "Requirement already satisfied: six>=1.5 in /usr/local/lib/python3.8/dist-packages (from python-dateutil>=2.7->matplotlib->CANdas) (1.15.0)\n"
          ]
        }
      ]
    },
    {
      "cell_type": "code",
      "source": [
        "import candas as cd\n",
        "import pandas as pd\n",
        "from functools import reduce\n",
        "import time"
      ],
      "metadata": {
        "id": "sR6x-d8xwdaQ"
      },
      "execution_count": null,
      "outputs": []
    },
    {
      "cell_type": "code",
      "source": [
        "start_time = time.time()\n",
        "!unzip /content/data/4x12_CESL_Proto1_Delhi_Cycle_Trails.zip -d /content/data"
      ],
      "metadata": {
        "id": "Rgl4P03AHjjz"
      },
      "execution_count": null,
      "outputs": []
    },
    {
      "cell_type": "code",
      "source": [
        "db = cd.load_dbc(\"/content\")\n",
        "# This is the BLF file 'my_file.blf':\n",
        "log = cd.from_file(dbc_db=db,filename= '/content/D1F95')"
      ],
      "metadata": {
        "id": "SiZU4lSMswYq"
      },
      "execution_count": null,
      "outputs": []
    },
    {
      "cell_type": "code",
      "source": [
        "all_keys=log.keys()"
      ],
      "metadata": {
        "id": "2W4dKbqXtd1r"
      },
      "execution_count": null,
      "outputs": []
    },
    {
      "cell_type": "code",
      "source": [
        "all_keys=[ i for i in all_keys]\n",
        "allkeys"
      ],
      "metadata": {
        "id": "aVs20mnaTwzQ"
      },
      "execution_count": null,
      "outputs": []
    },
    {
      "cell_type": "code",
      "source": [
        "battery_keys=[i for i in my_keys if ('attery' in i) | ('ell' in i)]\n",
        "battery_keys"
      ],
      "metadata": {
        "id": "ZpOuoukWvqYH"
      },
      "execution_count": null,
      "outputs": []
    },
    {
      "cell_type": "code",
      "source": [],
      "metadata": {
        "id": "4VGz5ynZeUXV"
      },
      "execution_count": null,
      "outputs": []
    },
    {
      "cell_type": "code",
      "source": [
        "req_keys=['A_Pack_Curr_Value','B_Pack_Curr_Value','C_Pack_Curr_Value','D_Pack_Curr_Value','A_Pack_Voltage_Value',\n",
        " 'B_Pack_Voltage_Value','C_Pack_Voltage_Value','D_Pack_Voltage_Value','B_Mux_Voltage_Counter','B_Cell_Voltage_N',\n",
        " 'B_Cell_Voltage_N_plus_1','B_Cell_Voltage_N_plus_2','B_Cell_Voltage_N_plus_3','B_Cell_Voltage_N_plus_4']\n",
        "req_dict={}"
      ],
      "metadata": {
        "id": "9JfGI0Iez5_G"
      },
      "execution_count": null,
      "outputs": []
    },
    {
      "cell_type": "code",
      "source": [],
      "metadata": {
        "id": "3rORw74gaZgt"
      },
      "execution_count": null,
      "outputs": []
    },
    {
      "cell_type": "code",
      "source": [
        "all_dict={}\n",
        "for i in all_keys:\n",
        "  all_dict[i]=pd.DataFrame(data=log[i])\n",
        "  all_dict[i].columns=['Time',i]\n"
      ],
      "metadata": {
        "id": "UFpWiNHyuG8P"
      },
      "execution_count": null,
      "outputs": []
    },
    {
      "cell_type": "code",
      "source": [
        "all_keys"
      ],
      "metadata": {
        "id": "oiqH_EikcmdX"
      },
      "execution_count": null,
      "outputs": []
    },
    {
      "cell_type": "code",
      "source": [
        "final_csv=reduce(lambda x,y: pd.merge(x,y, on='Time', how='outer'), [all_dict[i] for i in all_keys])"
      ],
      "metadata": {
        "id": "7reDyVjB2ZnA"
      },
      "execution_count": null,
      "outputs": []
    },
    {
      "cell_type": "code",
      "source": [
        "final_csv.to_csv('D1F95.csv')"
      ],
      "metadata": {
        "id": "Dy51V8XS7BeX"
      },
      "execution_count": null,
      "outputs": []
    },
    {
      "cell_type": "code",
      "source": [
        "print(\"--- %s seconds ---\" % (time.time() - start_time))"
      ],
      "metadata": {
        "id": "dqU2prAg7RWm"
      },
      "execution_count": null,
      "outputs": []
    },
    {
      "cell_type": "code",
      "source": [
        "pd.to_datetime(req_dict[i]['Time'])"
      ],
      "metadata": {
        "id": "4TaULXwXTYtw"
      },
      "execution_count": null,
      "outputs": []
    },
    {
      "cell_type": "code",
      "source": [
        "final_csv"
      ],
      "metadata": {
        "id": "n4l4v33RTZq2"
      },
      "execution_count": null,
      "outputs": []
    },
    {
      "cell_type": "code",
      "source": [],
      "metadata": {
        "id": "mQo37mMoUlGO"
      },
      "execution_count": null,
      "outputs": []
    }
  ],
  "metadata": {
    "colab": {
      "name": "Welcome To Colaboratory",
      "provenance": []
    },
    "kernelspec": {
      "display_name": "Python 3",
      "name": "python3"
    }
  },
  "nbformat": 4,
  "nbformat_minor": 0
}