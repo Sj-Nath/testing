{
  "cells": [
    {
      "cell_type": "code",
      "source": [
        "!pip install dask\n",
        "!pip install CANdas"
      ],
      "metadata": {
        "colab": {
          "base_uri": "https://localhost:8080/"
        },
        "id": "8Wo9TKHXs6gR",
        "outputId": "46a00e29-48f4-4ad4-9942-115df06e5e62"
      },
      "execution_count": 16,
      "outputs": [
        {
          "output_type": "stream",
          "name": "stdout",
          "text": [
            "Looking in indexes: https://pypi.org/simple, https://us-python.pkg.dev/colab-wheels/public/simple/\n",
            "Requirement already satisfied: dask in /usr/local/lib/python3.8/dist-packages (2022.2.1)\n",
            "Requirement already satisfied: cloudpickle>=1.1.1 in /usr/local/lib/python3.8/dist-packages (from dask) (2.2.1)\n",
            "Requirement already satisfied: pyyaml>=5.3.1 in /usr/local/lib/python3.8/dist-packages (from dask) (6.0)\n",
            "Requirement already satisfied: packaging>=20.0 in /usr/local/lib/python3.8/dist-packages (from dask) (23.0)\n",
            "Requirement already satisfied: fsspec>=0.6.0 in /usr/local/lib/python3.8/dist-packages (from dask) (2023.1.0)\n",
            "Requirement already satisfied: toolz>=0.8.2 in /usr/local/lib/python3.8/dist-packages (from dask) (0.12.0)\n",
            "Requirement already satisfied: partd>=0.3.10 in /usr/local/lib/python3.8/dist-packages (from dask) (1.3.0)\n",
            "Requirement already satisfied: locket in /usr/local/lib/python3.8/dist-packages (from partd>=0.3.10->dask) (1.0.0)\n",
            "Looking in indexes: https://pypi.org/simple, https://us-python.pkg.dev/colab-wheels/public/simple/\n",
            "Requirement already satisfied: CANdas in /usr/local/lib/python3.8/dist-packages (2.0.2)\n",
            "Requirement already satisfied: python-can in /usr/local/lib/python3.8/dist-packages (from CANdas) (4.1.0)\n",
            "Requirement already satisfied: matplotlib in /usr/local/lib/python3.8/dist-packages (from CANdas) (3.5.3)\n",
            "Requirement already satisfied: numpy in /usr/local/lib/python3.8/dist-packages (from CANdas) (1.22.4)\n",
            "Requirement already satisfied: pandas in /usr/local/lib/python3.8/dist-packages (from CANdas) (1.3.5)\n",
            "Requirement already satisfied: cantools in /usr/local/lib/python3.8/dist-packages (from CANdas) (38.0.2)\n",
            "Requirement already satisfied: scipy in /usr/local/lib/python3.8/dist-packages (from CANdas) (1.10.1)\n",
            "Requirement already satisfied: crccheck in /usr/local/lib/python3.8/dist-packages (from cantools->CANdas) (1.3.0)\n",
            "Requirement already satisfied: argparse-addons in /usr/local/lib/python3.8/dist-packages (from cantools->CANdas) (0.12.0)\n",
            "Requirement already satisfied: diskcache in /usr/local/lib/python3.8/dist-packages (from cantools->CANdas) (5.4.0)\n",
            "Requirement already satisfied: textparser>=0.21.1 in /usr/local/lib/python3.8/dist-packages (from cantools->CANdas) (0.24.0)\n",
            "Requirement already satisfied: typing-extensions>=3.10.0.0 in /usr/local/lib/python3.8/dist-packages (from cantools->CANdas) (4.5.0)\n",
            "Requirement already satisfied: bitstruct>=8.15.1 in /usr/local/lib/python3.8/dist-packages (from cantools->CANdas) (8.17.0)\n",
            "Requirement already satisfied: wrapt~=1.10 in /usr/local/lib/python3.8/dist-packages (from python-can->CANdas) (1.15.0)\n",
            "Requirement already satisfied: packaging in /usr/local/lib/python3.8/dist-packages (from python-can->CANdas) (23.0)\n",
            "Requirement already satisfied: setuptools in /usr/local/lib/python3.8/dist-packages (from python-can->CANdas) (57.4.0)\n",
            "Requirement already satisfied: msgpack~=1.0.0 in /usr/local/lib/python3.8/dist-packages (from python-can->CANdas) (1.0.4)\n",
            "Requirement already satisfied: pillow>=6.2.0 in /usr/local/lib/python3.8/dist-packages (from matplotlib->CANdas) (8.4.0)\n",
            "Requirement already satisfied: python-dateutil>=2.7 in /usr/local/lib/python3.8/dist-packages (from matplotlib->CANdas) (2.8.2)\n",
            "Requirement already satisfied: fonttools>=4.22.0 in /usr/local/lib/python3.8/dist-packages (from matplotlib->CANdas) (4.38.0)\n",
            "Requirement already satisfied: pyparsing>=2.2.1 in /usr/local/lib/python3.8/dist-packages (from matplotlib->CANdas) (3.0.9)\n",
            "Requirement already satisfied: kiwisolver>=1.0.1 in /usr/local/lib/python3.8/dist-packages (from matplotlib->CANdas) (1.4.4)\n",
            "Requirement already satisfied: cycler>=0.10 in /usr/local/lib/python3.8/dist-packages (from matplotlib->CANdas) (0.11.0)\n",
            "Requirement already satisfied: pytz>=2017.3 in /usr/local/lib/python3.8/dist-packages (from pandas->CANdas) (2022.7.1)\n",
            "Requirement already satisfied: six>=1.5 in /usr/local/lib/python3.8/dist-packages (from python-dateutil>=2.7->matplotlib->CANdas) (1.15.0)\n"
          ]
        }
      ]
    },
    {
      "cell_type": "code",
      "source": [
        "import candas as cd\n",
        "import pandas as pd\n",
        "from functools import reduce\n",
        "import time\n",
        "import dask"
      ],
      "metadata": {
        "id": "sR6x-d8xwdaQ"
      },
      "execution_count": 17,
      "outputs": []
    },
    {
      "cell_type": "code",
      "source": [
        "start_time = time.time()\n",
        "'''!unzip /content/data/4x12_CESL_Proto1_Delhi_Cycle_Trails.zip -d /content/data'''"
      ],
      "metadata": {
        "id": "Rgl4P03AHjjz",
        "colab": {
          "base_uri": "https://localhost:8080/",
          "height": 35
        },
        "outputId": "c1f5166b-0287-47b2-fdc1-f6c7d18fcc66"
      },
      "execution_count": 18,
      "outputs": [
        {
          "output_type": "execute_result",
          "data": {
            "text/plain": [
              "'!unzip /content/data/4x12_CESL_Proto1_Delhi_Cycle_Trails.zip -d /content/data'"
            ],
            "application/vnd.google.colaboratory.intrinsic+json": {
              "type": "string"
            }
          },
          "metadata": {},
          "execution_count": 18
        }
      ]
    },
    {
      "cell_type": "code",
      "source": [
        "db = cd.load_dbc(\"/content\")\n",
        "# This is the BLF file 'my_file.blf':\n",
        "log = cd.from_file(dbc_db=db,filename= '/content/D1F95')"
      ],
      "metadata": {
        "id": "SiZU4lSMswYq",
        "colab": {
          "base_uri": "https://localhost:8080/"
        },
        "outputId": "c6062ee4-ca24-45eb-c2a5-d9efa4916656"
      },
      "execution_count": 19,
      "outputs": [
        {
          "output_type": "stream",
          "name": "stdout",
          "text": [
            "Loading dbc...\n",
            "Finished loading.\n",
            "Converting data to readable format... this might take several minutes\n",
            "The following IDs caused errors: {420511872, 420577408, 420512129, 420577665, 420642944, 420643201, 1793, 129, 417998720, 417998721, 1298, 419361047, 419415321, 218043431, 217056039, 217056295, 217055783, 419366695, 419366439, 419366183, 218043175, 419360295, 418184999, 418119463, 419377907, 419427060, 218057203, 218057715, 218058227, 218058739, 218079475, 218080243, 218080755, 419407091, 536870911}\n"
          ]
        }
      ]
    },
    {
      "cell_type": "code",
      "source": [
        "all_keys=log.keys()"
      ],
      "metadata": {
        "id": "2W4dKbqXtd1r"
      },
      "execution_count": 20,
      "outputs": []
    },
    {
      "cell_type": "code",
      "source": [
        "all_keys=[ i for i in all_keys]\n",
        "all_keys"
      ],
      "metadata": {
        "id": "aVs20mnaTwzQ"
      },
      "execution_count": null,
      "outputs": []
    },
    {
      "cell_type": "code",
      "source": [
        "battery_keys=[i for i in all_keys if ('attery' in i) | ('ell' in i)]\n",
        "battery_keys"
      ],
      "metadata": {
        "id": "ZpOuoukWvqYH",
        "colab": {
          "base_uri": "https://localhost:8080/"
        },
        "outputId": "edd97f62-64cd-4f3c-c833-2fb3d25a7c74"
      },
      "execution_count": 22,
      "outputs": [
        {
          "output_type": "execute_result",
          "data": {
            "text/plain": [
              "['HV_Battery_Temp_1',\n",
              " 'HV_Battery_Temp_2',\n",
              " 'HV_Battery_Temp_3',\n",
              " 'HV_Battery_Temp_4',\n",
              " 'maxBatteryVoltage',\n",
              " 'minBatteryVoltage',\n",
              " 'A_Max_Cell_Volt',\n",
              " 'A_Min_Cell_Volt',\n",
              " 'A_Max_Cell_Temp',\n",
              " 'A_Min_Cell_Temp',\n",
              " 'A_Max_Cell_Volt_No',\n",
              " 'A_Min_Cell_Volt_No',\n",
              " 'B_Max_Cell_Volt',\n",
              " 'B_Min_Cell_Volt',\n",
              " 'B_Max_Cell_Temp',\n",
              " 'B_Min_Cell_Temp',\n",
              " 'B_Max_Cell_Volt_No',\n",
              " 'B_Min_Cell_Volt_No',\n",
              " 'D_Max_Cell_Volt',\n",
              " 'D_Min_Cell_Volt',\n",
              " 'D_Max_Cell_Temp',\n",
              " 'D_Min_Cell_Temp',\n",
              " 'D_Max_Cell_Volt_No',\n",
              " 'D_Min_Cell_Volt_No',\n",
              " 'A_Cell_OverVolt_Alarm',\n",
              " 'A_Cell_UnderVolt_Alarm',\n",
              " 'A_Cell_OverTemp_Alarm',\n",
              " 'A_Cell_UnderTemp_Alarm',\n",
              " 'A_Cell_volt_sampling_Alarm',\n",
              " 'A_Cell_temp_sampling_Alarm',\n",
              " 'A_Cell_DV_Static_Alarm',\n",
              " 'A_Cell_DV_Dyn_Alarm',\n",
              " 'A_Cell_Delta_Temperture_Alarm',\n",
              " 'A_Cell_Balancing_Hw_Flt',\n",
              " 'A_Max_Cell_Temp_No',\n",
              " 'A_Min_Cell_Temp_No',\n",
              " 'B_Cell_OverVolt_Alarm',\n",
              " 'B_Cell_UnderVolt_Alarm',\n",
              " 'B_Cell_OverTemp_Alarm',\n",
              " 'B_Cell_UnderTemp_Alarm',\n",
              " 'B_Cell_volt_sampling_Alarm',\n",
              " 'B_Cell_temp_sampling_Alarm',\n",
              " 'B_Cell_DV_Static_Alarm',\n",
              " 'B_Cell_DV_Dyn_Alarm',\n",
              " 'B_Cell_Delta_Temperture_Alarm',\n",
              " 'B_Cell_Balancing_Hw_Flt',\n",
              " 'D_Cell_OverVolt_Alarm',\n",
              " 'D_Cell_UnderVolt_Alarm',\n",
              " 'D_Cell_OverTemp_Alarm',\n",
              " 'D_Cell_UnderTemp_Alarm',\n",
              " 'D_Cell_volt_sampling_Alarm',\n",
              " 'D_Cell_temp_sampling_Alarm',\n",
              " 'D_Cell_DV_Static_Alarm',\n",
              " 'D_Cell_DV_Dyn_Alarm',\n",
              " 'D_Cell_Delta_Temperture_Alarm',\n",
              " 'D_Cell_Balancing_Hw_Flt',\n",
              " 'B_Max_Cell_Temp_No',\n",
              " 'B_Min_Cell_Temp_No',\n",
              " 'D_Max_Cell_Temp_No',\n",
              " 'D_Min_Cell_Temp_No',\n",
              " 'A_No_Of_Cell_Balancing',\n",
              " 'B_No_Of_Cell_Balancing',\n",
              " 'D_No_Of_Cell_Balancing',\n",
              " 'A_Cell_Voltage_N',\n",
              " 'A_Cell_Voltage_N_plus_1',\n",
              " 'A_Cell_Voltage_N_plus_2',\n",
              " 'A_Cell_Voltage_N_plus_3',\n",
              " 'A_Cell_Voltage_N_plus_4',\n",
              " 'B_Cell_Voltage_N',\n",
              " 'B_Cell_Voltage_N_plus_1',\n",
              " 'B_Cell_Voltage_N_plus_2',\n",
              " 'B_Cell_Voltage_N_plus_3',\n",
              " 'B_Cell_Voltage_N_plus_4',\n",
              " 'D_Cell_Voltage_N',\n",
              " 'D_Cell_Voltage_N_plus_1',\n",
              " 'D_Cell_Voltage_N_plus_2',\n",
              " 'D_Cell_Voltage_N_plus_3',\n",
              " 'D_Cell_Voltage_N_plus_4',\n",
              " 'C_Max_Cell_Volt',\n",
              " 'C_Min_Cell_Volt',\n",
              " 'C_Max_Cell_Temp',\n",
              " 'C_Min_Cell_Temp',\n",
              " 'C_Max_Cell_Volt_No',\n",
              " 'C_Min_Cell_Volt_No',\n",
              " 'BatteryTemperature',\n",
              " 'BatterySOC',\n",
              " 'C_Cell_OverVolt_Alarm',\n",
              " 'C_Cell_UnderVolt_Alarm',\n",
              " 'C_Cell_OverTemp_Alarm',\n",
              " 'C_Cell_UnderTemp_Alarm',\n",
              " 'C_Cell_volt_sampling_Alarm',\n",
              " 'C_Cell_temp_sampling_Alarm',\n",
              " 'C_Cell_DV_Static_Alarm',\n",
              " 'C_Cell_DV_Dyn_Alarm',\n",
              " 'C_Cell_Delta_Temperture_Alarm',\n",
              " 'C_Cell_Balancing_Hw_Flt',\n",
              " 'C_Max_Cell_Temp_No',\n",
              " 'C_Min_Cell_Temp_No',\n",
              " 'B_Pack_Lowest_Cell_Voltage',\n",
              " 'D_Pack_Lowest_Cell_Voltage',\n",
              " 'C_No_Of_Cell_Balancing',\n",
              " 'C_Cell_Voltage_N',\n",
              " 'C_Cell_Voltage_N_plus_1',\n",
              " 'C_Cell_Voltage_N_plus_2',\n",
              " 'C_Cell_Voltage_N_plus_3',\n",
              " 'C_Cell_Voltage_N_plus_4',\n",
              " 'C_Pack_Lowest_Cell_Voltage',\n",
              " 'BatteryDisconnected',\n",
              " 'BatteryError',\n",
              " 'BatteryTemperatureHigh',\n",
              " 'BatteryCoolantLow',\n",
              " 'LowBatteryChargeImmediately',\n",
              " 'HV_Battery_Voltage',\n",
              " 'HV_Battery_SOC_1',\n",
              " 'HV_Battery_SOC_2',\n",
              " 'HV_Battery_SOC_3',\n",
              " 'HV_Battery_SOC_4',\n",
              " 'Telltale_warning_kneel_left',\n",
              " 'telltaleWarning_stoprequest',\n",
              " 'telltaleWarning_rampengaged',\n",
              " 'telltaleWarning_kneelingfront',\n",
              " 'telltaleWarning_kneelingrear',\n",
              " 'telltaleWarning_kneelingboth',\n",
              " 'telltaleWarning_RearFlapOpen',\n",
              " 'TellWarningStopRequestPriority',\n",
              " 'A_Total_No_Cells',\n",
              " 'B_Total_No_Cells',\n",
              " 'D_Total_No_Cells',\n",
              " 'C_Total_No_Cells',\n",
              " 'D_Max_Cell_Volt_log',\n",
              " 'D_Min_Cell_Volt_log',\n",
              " 'D_Max_Cell_Temp_log',\n",
              " 'D_Min_Cell_Temp_log',\n",
              " 'D_Max_Cell_Volt_No_log',\n",
              " 'D_Min_Cell_Volt_No_log',\n",
              " 'D_No_Of_Cell_Balancing_log',\n",
              " 'D_Max_Cell_Temp_No_log',\n",
              " 'D_Min_Cell_Temp_No_log',\n",
              " 'C_Max_Cell_Volt_log',\n",
              " 'C_Min_Cell_Volt_log',\n",
              " 'C_Max_Cell_Temp_log',\n",
              " 'C_Min_Cell_Temp_log',\n",
              " 'C_Max_Cell_Volt_No_log',\n",
              " 'C_Min_Cell_Volt_No_log',\n",
              " 'B_No_Of_Cell_Balancing_log',\n",
              " 'C_Max_Cell_Temp_No_log',\n",
              " 'C_Min_Cell_Temp_No_log',\n",
              " 'B_Max_Cell_Volt_log',\n",
              " 'B_Min_Cell_Volt_log',\n",
              " 'B_Max_Cell_Temp_log',\n",
              " 'B_Min_Cell_Temp_log',\n",
              " 'B_Max_Cell_Volt_No_log',\n",
              " 'B_Min_Cell_Volt_No_log',\n",
              " 'B_Max_Cell_Temp_No_log',\n",
              " 'B_Min_Cell_Temp_No_log']"
            ]
          },
          "metadata": {},
          "execution_count": 22
        }
      ]
    },
    {
      "cell_type": "code",
      "source": [
        "req_keys=['A_Pack_Curr_Value','B_Pack_Curr_Value','C_Pack_Curr_Value','D_Pack_Curr_Value','A_Pack_Voltage_Value',\n",
        " 'B_Pack_Voltage_Value','C_Pack_Voltage_Value','D_Pack_Voltage_Value','B_Mux_Voltage_Counter','B_Cell_Voltage_N',\n",
        " 'B_Cell_Voltage_N_plus_1','B_Cell_Voltage_N_plus_2','B_Cell_Voltage_N_plus_3','B_Cell_Voltage_N_plus_4']\n",
        "req_dict={}"
      ],
      "metadata": {
        "id": "9JfGI0Iez5_G"
      },
      "execution_count": 23,
      "outputs": []
    },
    {
      "cell_type": "code",
      "source": [
        "import dask.dataframe as dd\n",
        "from datetime import datetime, timedelta"
      ],
      "metadata": {
        "id": "3rORw74gaZgt"
      },
      "execution_count": 24,
      "outputs": []
    },
    {
      "cell_type": "code",
      "source": [],
      "metadata": {
        "id": "crKiEqLAgHtw"
      },
      "execution_count": 24,
      "outputs": []
    },
    {
      "cell_type": "code",
      "source": [
        "def date_con(x):\n",
        "  return pd.to_datetime(x, unit='s')"
      ],
      "metadata": {
        "id": "aFoa8vVtgsmG"
      },
      "execution_count": 25,
      "outputs": []
    },
    {
      "cell_type": "code",
      "source": [
        "all_dict={}\n",
        "for i in all_keys[4:]:\n",
        "  try:\n",
        "    all_dict[i]=pd.DataFrame(data=log[i])\n",
        "    all_dict[i].columns=['Time',i]\n",
        "    all_dict[i]=dd.from_pandas(all_dict[i],npartitions=1000)\n",
        "    all_dict[i].Time=all_dict[i].Time.map_partitions(date_con)\n",
        "  except:\n",
        "    all_dict.pop(i)"
      ],
      "metadata": {
        "id": "UFpWiNHyuG8P"
      },
      "execution_count": 26,
      "outputs": []
    },
    {
      "cell_type": "code",
      "source": [
        "all_dict['A_Pack_Curr_Value'].head()"
      ],
      "metadata": {
        "colab": {
          "base_uri": "https://localhost:8080/",
          "height": 206
        },
        "id": "lzmdnK10hFrF",
        "outputId": "5798b7ef-c66e-4065-9587-ef606138a0c5"
      },
      "execution_count": 27,
      "outputs": [
        {
          "output_type": "execute_result",
          "data": {
            "text/plain": [
              "                           Time  A_Pack_Curr_Value\n",
              "0 2023-02-24 08:56:01.279971584               -2.0\n",
              "1 2023-02-24 08:56:01.329776640               -1.0\n",
              "2 2023-02-24 08:56:01.379700992                0.0\n",
              "3 2023-02-24 08:56:01.429766400                2.0\n",
              "4 2023-02-24 08:56:01.479615488                3.0"
            ],
            "text/html": [
              "\n",
              "  <div id=\"df-43959929-067a-4394-b3c3-41d06ca55aaa\">\n",
              "    <div class=\"colab-df-container\">\n",
              "      <div>\n",
              "<style scoped>\n",
              "    .dataframe tbody tr th:only-of-type {\n",
              "        vertical-align: middle;\n",
              "    }\n",
              "\n",
              "    .dataframe tbody tr th {\n",
              "        vertical-align: top;\n",
              "    }\n",
              "\n",
              "    .dataframe thead th {\n",
              "        text-align: right;\n",
              "    }\n",
              "</style>\n",
              "<table border=\"1\" class=\"dataframe\">\n",
              "  <thead>\n",
              "    <tr style=\"text-align: right;\">\n",
              "      <th></th>\n",
              "      <th>Time</th>\n",
              "      <th>A_Pack_Curr_Value</th>\n",
              "    </tr>\n",
              "  </thead>\n",
              "  <tbody>\n",
              "    <tr>\n",
              "      <th>0</th>\n",
              "      <td>2023-02-24 08:56:01.279971584</td>\n",
              "      <td>-2.0</td>\n",
              "    </tr>\n",
              "    <tr>\n",
              "      <th>1</th>\n",
              "      <td>2023-02-24 08:56:01.329776640</td>\n",
              "      <td>-1.0</td>\n",
              "    </tr>\n",
              "    <tr>\n",
              "      <th>2</th>\n",
              "      <td>2023-02-24 08:56:01.379700992</td>\n",
              "      <td>0.0</td>\n",
              "    </tr>\n",
              "    <tr>\n",
              "      <th>3</th>\n",
              "      <td>2023-02-24 08:56:01.429766400</td>\n",
              "      <td>2.0</td>\n",
              "    </tr>\n",
              "    <tr>\n",
              "      <th>4</th>\n",
              "      <td>2023-02-24 08:56:01.479615488</td>\n",
              "      <td>3.0</td>\n",
              "    </tr>\n",
              "  </tbody>\n",
              "</table>\n",
              "</div>\n",
              "      <button class=\"colab-df-convert\" onclick=\"convertToInteractive('df-43959929-067a-4394-b3c3-41d06ca55aaa')\"\n",
              "              title=\"Convert this dataframe to an interactive table.\"\n",
              "              style=\"display:none;\">\n",
              "        \n",
              "  <svg xmlns=\"http://www.w3.org/2000/svg\" height=\"24px\"viewBox=\"0 0 24 24\"\n",
              "       width=\"24px\">\n",
              "    <path d=\"M0 0h24v24H0V0z\" fill=\"none\"/>\n",
              "    <path d=\"M18.56 5.44l.94 2.06.94-2.06 2.06-.94-2.06-.94-.94-2.06-.94 2.06-2.06.94zm-11 1L8.5 8.5l.94-2.06 2.06-.94-2.06-.94L8.5 2.5l-.94 2.06-2.06.94zm10 10l.94 2.06.94-2.06 2.06-.94-2.06-.94-.94-2.06-.94 2.06-2.06.94z\"/><path d=\"M17.41 7.96l-1.37-1.37c-.4-.4-.92-.59-1.43-.59-.52 0-1.04.2-1.43.59L10.3 9.45l-7.72 7.72c-.78.78-.78 2.05 0 2.83L4 21.41c.39.39.9.59 1.41.59.51 0 1.02-.2 1.41-.59l7.78-7.78 2.81-2.81c.8-.78.8-2.07 0-2.86zM5.41 20L4 18.59l7.72-7.72 1.47 1.35L5.41 20z\"/>\n",
              "  </svg>\n",
              "      </button>\n",
              "      \n",
              "  <style>\n",
              "    .colab-df-container {\n",
              "      display:flex;\n",
              "      flex-wrap:wrap;\n",
              "      gap: 12px;\n",
              "    }\n",
              "\n",
              "    .colab-df-convert {\n",
              "      background-color: #E8F0FE;\n",
              "      border: none;\n",
              "      border-radius: 50%;\n",
              "      cursor: pointer;\n",
              "      display: none;\n",
              "      fill: #1967D2;\n",
              "      height: 32px;\n",
              "      padding: 0 0 0 0;\n",
              "      width: 32px;\n",
              "    }\n",
              "\n",
              "    .colab-df-convert:hover {\n",
              "      background-color: #E2EBFA;\n",
              "      box-shadow: 0px 1px 2px rgba(60, 64, 67, 0.3), 0px 1px 3px 1px rgba(60, 64, 67, 0.15);\n",
              "      fill: #174EA6;\n",
              "    }\n",
              "\n",
              "    [theme=dark] .colab-df-convert {\n",
              "      background-color: #3B4455;\n",
              "      fill: #D2E3FC;\n",
              "    }\n",
              "\n",
              "    [theme=dark] .colab-df-convert:hover {\n",
              "      background-color: #434B5C;\n",
              "      box-shadow: 0px 1px 3px 1px rgba(0, 0, 0, 0.15);\n",
              "      filter: drop-shadow(0px 1px 2px rgba(0, 0, 0, 0.3));\n",
              "      fill: #FFFFFF;\n",
              "    }\n",
              "  </style>\n",
              "\n",
              "      <script>\n",
              "        const buttonEl =\n",
              "          document.querySelector('#df-43959929-067a-4394-b3c3-41d06ca55aaa button.colab-df-convert');\n",
              "        buttonEl.style.display =\n",
              "          google.colab.kernel.accessAllowed ? 'block' : 'none';\n",
              "\n",
              "        async function convertToInteractive(key) {\n",
              "          const element = document.querySelector('#df-43959929-067a-4394-b3c3-41d06ca55aaa');\n",
              "          const dataTable =\n",
              "            await google.colab.kernel.invokeFunction('convertToInteractive',\n",
              "                                                     [key], {});\n",
              "          if (!dataTable) return;\n",
              "\n",
              "          const docLinkHtml = 'Like what you see? Visit the ' +\n",
              "            '<a target=\"_blank\" href=https://colab.research.google.com/notebooks/data_table.ipynb>data table notebook</a>'\n",
              "            + ' to learn more about interactive tables.';\n",
              "          element.innerHTML = '';\n",
              "          dataTable['output_type'] = 'display_data';\n",
              "          await google.colab.output.renderOutput(dataTable, element);\n",
              "          const docLink = document.createElement('div');\n",
              "          docLink.innerHTML = docLinkHtml;\n",
              "          element.appendChild(docLink);\n",
              "        }\n",
              "      </script>\n",
              "    </div>\n",
              "  </div>\n",
              "  "
            ]
          },
          "metadata": {},
          "execution_count": 27
        }
      ]
    },
    {
      "cell_type": "code",
      "source": [
        "final_csv=reduce(lambda x,y: dd.merge(x,y, on='Time', how='outer'), [all_dict[i] for i in all_dict.keys()])"
      ],
      "metadata": {
        "id": "7reDyVjB2ZnA"
      },
      "execution_count": 28,
      "outputs": []
    },
    {
      "cell_type": "code",
      "source": [
        "final_csv.to_parquet(\n",
        "    '/content/data',\n",
        "     write_index=False,\n",
        "    engine=\"pyarrow\",\n",
        "    write_metadata_file=False,)"
      ],
      "metadata": {
        "id": "O675v9-emje7"
      },
      "execution_count": null,
      "outputs": []
    },
    {
      "cell_type": "code",
      "source": [
        "print(\"--- %s seconds ---\" % (time.time() - start_time))"
      ],
      "metadata": {
        "id": "dqU2prAg7RWm"
      },
      "execution_count": null,
      "outputs": []
    }
  ],
  "metadata": {
    "colab": {
      "name": "Welcome To Colaboratory",
      "provenance": []
    },
    "kernelspec": {
      "display_name": "Python 3",
      "name": "python3"
    }
  },
  "nbformat": 4,
  "nbformat_minor": 0
}